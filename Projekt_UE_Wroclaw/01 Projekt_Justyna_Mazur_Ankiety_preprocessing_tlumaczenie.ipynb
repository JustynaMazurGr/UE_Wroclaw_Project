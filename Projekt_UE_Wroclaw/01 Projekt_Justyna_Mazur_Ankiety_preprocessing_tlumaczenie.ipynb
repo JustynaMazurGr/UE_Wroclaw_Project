{
 "cells": [
  {
   "cell_type": "markdown",
   "metadata": {},
   "source": [
    "# Projekt: Analiza zależności między przewlekłymi dolegliwościami po operacjach endometriozy a czynnikami środowiskowymi, rodzajem operacji i trybem życia.\n",
    "\n",
    "1. **Cel projektu:** zbadanie czy są zależności między występowaniem przewlekłych dolegliwości po operacjach endometriozy nie występujących przed tymi operacjami, a czynnikami takimi jak rodzaj operacji, środowisko, czy są dodatkowe metody wspomagające organizm, trybem życia itp. oraz rodzajów dolegliwości\n",
    "\n",
    "2. Analiza zależności między przewlekłymi dolegliwościami po operacjach endometriozy, a czynnikami środowiskowymi, rodzajem operacji i trybem życia\n",
    "\n",
    "3. **Hipotezy:** Moja hipoteza jest taka, że:\n",
    "- przewlekłe dolegliwości po operacjach są rzadkie,\n",
    "- przewlekłe dolegliwości po operacjach są zależne od zakresu operacji,\n",
    "- przewlekłe dolegliwości po operacjach są bardzo zróżnicowane, ale niezależne od stosowanych diet, fizjoterapii i innych sposobów na poprawianie stanu organizmu, występują niezależnie od istnienia współistniejących chorób oraz są niezależne od stanu środowiska naturalnego w miejscu zamieszkania.\n",
    "\n",
    "4. **Metody:** W celu zebrania danych potrzebnych do analizy i budowy modelu uczenia maszynowego sporządziłam odpowiednią ankietę i udostępniłam ją na grupach na Facebooku dla osób chorych na endometriozę oraz została udostępniona na stronie Fundacji Pokonać Endometriozę. Po zebraniu odpowiedniej ilości wypełnionych ankiet, przystąpiłam do przeprowadzenia analizy danych używając języka Python. \n",
    "\n",
    "Kolejne kroki do wykonania:\n",
    "1. Wykorzystać mały model LLM oraz spróbować wykorzystać jednostki nazwane NER z scispacy -> tam gdzie są odpowiedzi na pytania otwarte, żeby z każdego rekordu wyciągnąć najważniejsze informacje w postaci list (osoby wypełniające ankietę w bardzo różny sposób odpowiadają na pytania, zakresy operacji są różne, różne są dolegliwości).\n",
    "2. Aby zmniejszyć liczbę wymiarów usunąć niepotrzebne kolumny, które po wstępnej analizie statystycznej na pewno nie będą miały wpływu na ryzyko pojawienia się dolegliwości. Połączyć dane z niektórych kolumn, aby uzyskać ważniejszą informację i zarazem też zmniejszyć ilość wymiarów, np. zamiast osobno waga i wzrost, to obliczyć BMI więc już będzie jedna kolumna, a nie dwie, itp.\n",
    "4. Wykorzystać reguły asocjacyjne - czyli wnioskowanie o współwystępowaniu poszczególnych zjawisk. Jeśli występuje A To występuje B w x[%] przypadków. Algorytmy i narzędzia w bibliotece mlxtend - algorytm budowania reguł asocjacyjnych https://rasbt.github.io/mlxtend/user_guide/frequent_patterns/association_rules/. \n",
    "Zrobić analizę:\n",
    "- jakie są zależności między różnymi czynnikami a występowaniem dolegliwości?\n",
    "5. Na koniec zrobić interaktywny Dashboard z wykresami w PowerBI."
   ]
  },
  {
   "cell_type": "markdown",
   "metadata": {},
   "source": [
    "# Ładowanie bibliotek"
   ]
  },
  {
   "cell_type": "code",
   "execution_count": 1,
   "metadata": {},
   "outputs": [],
   "source": [
    "import pandas as pd\n",
    "import numpy as np\n",
    "\n",
    "#potrzebne do kodu, który będzie tłumaczył na angielski:\n",
    "from langchain_openai import ChatOpenAI\t\t\t\t\n",
    "from langchain.prompts import ChatPromptTemplate\n",
    "from langchain.output_parsers import CommaSeparatedListOutputParser"
   ]
  },
  {
   "cell_type": "markdown",
   "metadata": {},
   "source": [
    "# Ustawienie sposobu wyświetalania zawartości dataframe.\n",
    "Ustawienie żeby wyświetlała się pełna zawartość komórek w dataframe i wszystkie kolumny (aby łatwiej mi było sprawdzać zawartość)."
   ]
  },
  {
   "cell_type": "code",
   "execution_count": 3,
   "metadata": {},
   "outputs": [],
   "source": [
    "pd.set_option('display.max_colwidth', None)\n",
    "pd.set_option('display.max_columns', None)"
   ]
  },
  {
   "cell_type": "markdown",
   "metadata": {},
   "source": [
    "# Wczytanie surowych danych"
   ]
  },
  {
   "cell_type": "code",
   "execution_count": null,
   "metadata": {},
   "outputs": [],
   "source": [
    "df = pd.read_csv(\"C:/Users/justy/Documents/Projekt/Rodzaj i ryzyko wystąpienia przewlekłych dolegliwości po operacjach endometriozy.csv\")  #wczytanie danych\n",
    "df.head()                 #sprawdzenie pierwszych 5 wierszy co znajduje się we wczytanej tabeli"
   ]
  },
  {
   "cell_type": "markdown",
   "metadata": {},
   "source": [
    "# Wstępna obróbka wczytanych danych"
   ]
  },
  {
   "cell_type": "markdown",
   "metadata": {},
   "source": [
    "Nagłówki kolumn zawierają bardzo długie nazwy. Jest to związane ze sposobem sporządzenia ankiety, zakładającym, że ankieta miała być jak najbardziej zrozumiała dla osób wypełniających kwestionariusze (stąd obszerne objaśnienia jak wypełniać poszczególne pola ankiety)."
   ]
  },
  {
   "cell_type": "markdown",
   "metadata": {},
   "source": [
    "## W następnym kroku jest zamiana długich opisowych nagłówków kolumn, na krótkie:"
   ]
  },
  {
   "cell_type": "code",
   "execution_count": null,
   "metadata": {},
   "outputs": [],
   "source": [
    "# Lista nowych nazw kolumn\n",
    "nowe_nazwy = [\"Timestamp\", \n",
    "              \"Rozpoznanie_pooperacyjne\", \n",
    "              \"Zakres_operacji\", \n",
    "              \"Czy_dolegliwosci\", \n",
    "              \"Rodzaje_dolegliwosci\", \n",
    "              \"Rodzaj_operacji\", \n",
    "              \"Czy_leczenie_hormonalne\", \n",
    "              \"Czy_dietetyk\", \n",
    "              \"Okres_dietetyk\", \n",
    "              \"Czy_dieta_własna\", \n",
    "              \"Czy_Fizjoterapeuta_po_operacji\", \n",
    "              \"Okres_fizjoterapeuta\", \n",
    "              \"Czy_szpital_uzdrowiskowy\", \n",
    "              \"Aktywnosc_fizyczna\", \n",
    "              \"Czy_inne_metody\", \n",
    "              \"Jakie_inne_metody\", \n",
    "              \"Czy_warzywa_i_owoce_5_porcji\", \n",
    "              \"Czy_inne_choroby\", \n",
    "              \"Jakie_inne_choroby\", \n",
    "              \"Ile_operacji\", \n",
    "              \"Czy_operacja_zwiadowcza\", \n",
    "              \"Ile_po_operacji\", \n",
    "              \"Wiek\", \n",
    "              \"Waga\", \n",
    "              \"Wzrost\", \n",
    "              \"Miasto_wies\", \n",
    "              \"Czy_zanieczyszczenia_przemyslowe\", \n",
    "              \"Czy_smog\"]\n",
    "\n",
    "# Zmień nazwy kolumn\n",
    "data = df.rename(columns=dict(zip(df.columns, nowe_nazwy)))\n",
    "data.head()"
   ]
  },
  {
   "cell_type": "markdown",
   "metadata": {},
   "source": [
    "Część danych w niektórych kolumnach zawiera dużo NaN, przy czym jest to związane, z tym, że respondent nie musiał wypełniać danego pola, gdyż to pole jest zależne od odpowiedzi na wcześniejsze pytanie. To znaczy, że jeśli w pytaniu X respondent odpowiedział TAK, to musiał odpowiedzieć na pytanie Y, ale jeśli w pytaniu X respondent odpowiedział NIE, wtedy nie musiał odpowiadać na pytanie Y. Wierszy z tymi wartościami nie wolno usuwać, gdyż niosą one wiedzę."
   ]
  },
  {
   "cell_type": "markdown",
   "metadata": {},
   "source": [
    "Przed przystąpieniem do obróbki danych i ich analizy w Python, w pierwszym kroku otwarłam dane w MS Excel i przejrzałam je.\n",
    "Zauważyłam, że osoby wypełniające ankiety czasem nie wpisywały rozpoznania operacyjnego, a jedynie słowa typu: \"To jest wyżej\", \"tjw.\". Wynika to z tego, że najpierw musiały wpisać informacje jakie było rozpoznanie pooperacyjne i prawdopodobnie przyjęły, że to co wykonano podczas operacji równa się temu co rozpoznano podczas operacji. \n",
    "\n",
    "W tym podobnych przypadkach do takich komórek (tam gdzie są słowa typu \"tjw.\" itp.) przekopiuję to co te osoby wpisały jako odpowiedź do rozpoznania pooperacyjnego. Ingerencja ta podyktowana jest tym, że tekst w stylu \"To jest wyżej\" nie daje wartościowych informacji dla późniejszej automatycznej analizy."
   ]
  },
  {
   "cell_type": "markdown",
   "metadata": {},
   "source": [
    "## Uzupełnienie informacji w komórkach z tekstami typu: \"to jest wyżej\":"
   ]
  },
  {
   "cell_type": "code",
   "execution_count": null,
   "metadata": {},
   "outputs": [],
   "source": [
    "# Po przeglądnięciu danych w MS Excel wiem, że \"tjw.\" jest między innymi w 7 wierszu od końca. Poniżej wyświetlam jak wygląda ostatnie 7 wierszy dataframu:\n",
    "data.tail(7)"
   ]
  },
  {
   "cell_type": "markdown",
   "metadata": {},
   "source": [
    "W MS Excel sprawdziłam jakie teksty są wpisywane w kolumnie \"Zakres_operacji\", które nie są opisem zakresu operacji (teksty typu \"tjw.\"). Znalezione ręcznie teksty wykorzystam do funkcji do aktualizacji kolumny \"Zakres_operacji\" jak opisałam wyżej."
   ]
  },
  {
   "cell_type": "code",
   "execution_count": null,
   "metadata": {},
   "outputs": [],
   "source": [
    "# Funkcja do aktualizacji wartości w kolumnie 'Zakres_operacji'\n",
    "def update_Zakres_operacji(row):\n",
    "    if pd.notna(row['Zakres_operacji']) and any(phrase in row['Zakres_operacji'] for phrase in [\n",
    "        'Wszystko jak wyżej',\n",
    "        'Wpisałam wyżej',\n",
    "        'Tjw.',\n",
    "        'Laparoskopia z mini laparotomia']):\n",
    "        # Dodanie wartości z kolumny Rozpoznanie_pooperacyjne do kolumny Zakres_operacji:\n",
    "        additional_text = '' if pd.isna(row['Rozpoznanie_pooperacyjne']) else row['Rozpoznanie_pooperacyjne']\n",
    "        return f\"{row['Zakres_operacji']}:{additional_text}\"\n",
    "    else:\n",
    "        return row['Zakres_operacji']\n",
    "\n",
    "# Zastosowanie funkcji do aktualizacji kolumny Zakres_operacji\n",
    "data['Zakres_operacji'] = data.apply(update_Zakres_operacji, axis=1)\n",
    "\n",
    "# Sprawdzenie czy wszystko jest prawidłowo (czy do kolumny 'Zakres_operacji' jest dodany opis z kolumny 'Rozpoznanie_pooperacyjne') a wiem, że na dole dataframu były takie przypadki, że nie był wpisany zakres operacji\n",
    "data.tail(7)"
   ]
  },
  {
   "cell_type": "markdown",
   "metadata": {},
   "source": [
    "Po sprawdzeniu jednego z wierszy, tu o indeksie 51, widzę, że kolumna Zakres_operacji jest poprawnie zaktualizowana."
   ]
  },
  {
   "cell_type": "markdown",
   "metadata": {},
   "source": [
    "# Tłumaczenie na język angielski\n",
    "\n",
    "W związku z tym, że język polski ma bardzo niewielkie wsparcie w modelach językowych, a dodatkowo jest użyty nie tylko język polski, dane opisowe znajdujące się w danych, najpierw zostaną przetłumaczone na język angielski.\n",
    "Dzięki temu będzie można skorzystać z biblioteki scispacy do wyodrębniania jednostek nazwanych NER odnoszących się do dziedzin medycznej i biologicznej. W późniejszych krokach sprawdzę, czy jednostki nazwane NER pomogą w kolejnych analizach, gdyż teksty opisowe od respondentów są trudne do analizy."
   ]
  },
  {
   "cell_type": "markdown",
   "metadata": {},
   "source": [
    "Wypróbowałam tłumaczenie korzystając z modelu na HuggingFace: https://huggingface.co/Helsinki-NLP/opus-mt-pl-en, jednakże ten model nie jest wytrenowany do dziedziny medycznej, co powoduje, że tłumaczenie nie zawsze było satysfakcjonujące. Wypróbowałam również tłumaczenie przy wykorzystaniu darmowego Ollama3. Wynik również nie był satysfakcjonujący. Najlepszy wynik uzyskałam dzięki tłumaczeniu przez czat gpt 4o-mini. W związku z tym w tym projekcie przedstawiam kod i wynik tłumaczenia z wykorzystaniem gpt 4o-mini."
   ]
  },
  {
   "cell_type": "code",
   "execution_count": null,
   "metadata": {},
   "outputs": [],
   "source": [
    "api_key = open(\"C:\\\\...\\\\api openai key.txt\").read()\t# Odczyt klucza api apenai, w miejsce ... ma być lokalizacja\n",
    "llm = ChatOpenAI(model='gpt-4o-mini', temperature=0.0, openai_api_key=api_key)\t\t# Tworzę model, temperatura jest ustawiona na 0.0 dzięki czemu przy kilkukrotnym powtórzeniu kroków, wyniki powinny być powtarzalne."
   ]
  },
  {
   "cell_type": "code",
   "execution_count": 9,
   "metadata": {},
   "outputs": [],
   "source": [
    "def translate(description):\n",
    "\t#Tworzę dwa łańcuchy (chains):\n",
    "    \n",
    "    # 1. Wykrywanie języka\n",
    "    template1 = \"Return the language this description is written in:\\n{description}.\\nONLY return the language it was written in.\"\n",
    "    prompt1 = ChatPromptTemplate.from_template(template1)\n",
    "    chain_1 = prompt1|llm\n",
    "    \n",
    "    # 2. Tłumaczenie z wykrytego języka na angielski\n",
    "    template2 = \"Translate the following medical description from {language} into English. Ensure that the translation is accurate and uses proper medical terminology. Please provide only the translated text without any additional explanations or statements. Here is the description:\\n\"+description\n",
    "    prompt2 = ChatPromptTemplate.from_template(template2)\n",
    "    chain_2 = prompt2|llm\n",
    "\n",
    "    language_chain = chain_1\n",
    "    translation_chain = language_chain|chain_2\n",
    "    \n",
    "    return translation_chain.invoke(description)"
   ]
  },
  {
   "cell_type": "code",
   "execution_count": 10,
   "metadata": {},
   "outputs": [],
   "source": [
    "# Funkcja do tłumaczenia i przetwarzania wyników\n",
    "def translate_and_parse(description):\n",
    "    if pd.isna(description):\n",
    "        return np.nan  # Zwróć NaN, jeśli opis jest NaN\n",
    "    result = translate(description)\n",
    "    translate_result_content = result.content\n",
    "    return translate_result_content\n",
    "\n",
    "# Zastosowanie funkcji do każdego opisu w DataFrame\n",
    "data['Tlumaczenie_Ang_Rozpoznanie_pooperacyjne'] = data['Rozpoznanie_pooperacyjne'].apply(translate_and_parse)\n",
    "data['Tlumaczenie_Ang_Zakres_operacji'] = data['Zakres_operacji'].apply(translate_and_parse)\n",
    "data['Tlumaczenie_Ang_Rodzaje_dolegliwosci'] = data['Rodzaje_dolegliwosci'].apply(translate_and_parse)\n",
    "data['Tlumaczenie_Ang_Jakie_inne_metody'] = data['Jakie_inne_metody'].apply(translate_and_parse)\n",
    "data['Tlumaczenie_Ang_Jakie_inne_choroby'] = data['Jakie_inne_choroby'].apply(translate_and_parse)"
   ]
  },
  {
   "cell_type": "code",
   "execution_count": null,
   "metadata": {},
   "outputs": [],
   "source": [
    "#Sprawdzam jak teraz wygląda dataframe po tłumaczeniu wybranych kolumn\n",
    "data.head()"
   ]
  },
  {
   "cell_type": "code",
   "execution_count": 12,
   "metadata": {},
   "outputs": [],
   "source": [
    "#Nowe kolumny są na końcu dataframe. Przestawię je przed odpowiadającymi im kolumnami macierzystymi dla łatwiejszego czytania dataframu.\n",
    "\n",
    "#Kolumny dataframe:\n",
    "cols = list(data.columns)\n",
    "\n",
    "# Przeniesienie kolumny 'Tlumaczenie_Ang_Rozpoznanie_pooperacyjne' przed jej odpowiadającą jej kolumną po polsku\n",
    "cols.insert(cols.index('Rozpoznanie_pooperacyjne'), cols.pop(cols.index('Tlumaczenie_Ang_Rozpoznanie_pooperacyjne')))\n",
    "\n",
    "# Przeniesienie kolumny 'Tlumaczenie_Ang_Zakres_operacji' \n",
    "cols.insert(cols.index('Zakres_operacji'), cols.pop(cols.index('Tlumaczenie_Ang_Zakres_operacji')))\n",
    "\n",
    "# Przeniesienie kolumny 'Tlumaczenie_Ang_Rodzaje_dolegliwosci' \n",
    "cols.insert(cols.index('Rodzaje_dolegliwosci'), cols.pop(cols.index('Tlumaczenie_Ang_Rodzaje_dolegliwosci')))\n",
    "\n",
    "# Przeniesienie kolumny 'Tlumaczenie_Ang_Jakie_inne_metody' \n",
    "cols.insert(cols.index('Jakie_inne_metody'), cols.pop(cols.index('Tlumaczenie_Ang_Jakie_inne_metody')))\n",
    "\n",
    "# Przeniesienie kolumny 'Tlumaczenie_Ang_Rodzaje_dolegliwosci' \n",
    "cols.insert(cols.index('Jakie_inne_choroby'), cols.pop(cols.index('Tlumaczenie_Ang_Jakie_inne_choroby')))\n",
    "\n",
    "# Przestawienie DataFrame według zaktualizowanej listy kolumn:\n",
    "data_transl = data[cols]"
   ]
  },
  {
   "cell_type": "code",
   "execution_count": null,
   "metadata": {},
   "outputs": [],
   "source": [
    "data_transl.head()"
   ]
  },
  {
   "cell_type": "markdown",
   "metadata": {},
   "source": [
    "Zapis wyniku do pliku. To co będzie obejmowało pracę z opisami pacjentek, będzie wykonywane na przetłumaczonych tekstach na język angielski."
   ]
  },
  {
   "cell_type": "code",
   "execution_count": 14,
   "metadata": {},
   "outputs": [],
   "source": [
    "# Zapis do pliku CSV\n",
    "data_transl.to_csv(\"C:/Users/justy/Documents/Projekt/01_ankiety_opisy_pacjentek_przetlumaczone.csv\", index=False)"
   ]
  }
 ],
 "metadata": {
  "kernelspec": {
   "display_name": "Python 3",
   "language": "python",
   "name": "python3"
  },
  "language_info": {
   "codemirror_mode": {
    "name": "ipython",
    "version": 3
   },
   "file_extension": ".py",
   "mimetype": "text/x-python",
   "name": "python",
   "nbconvert_exporter": "python",
   "pygments_lexer": "ipython3",
   "version": "3.8.5"
  }
 },
 "nbformat": 4,
 "nbformat_minor": 2
}
